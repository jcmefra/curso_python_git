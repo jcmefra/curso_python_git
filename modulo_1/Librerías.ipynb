{
 "cells": [
  {
   "cell_type": "markdown",
   "metadata": {},
   "source": [
    "# Librerías\n",
    "\n",
    "Las <span style=\"color:gold\">librerías</span> o <span style=\"color:gold\">bibliotecas</span> de Python son colecciones de módulos y funciones predefinidas que permiten a los usuarios ahorrar\\\n",
    "tiempo y esfuerzo al utilizar código ya creado y probado para realizar tareas específicas."
   ]
  },
  {
   "cell_type": "markdown",
   "metadata": {},
   "source": []
  }
 ],
 "metadata": {
  "language_info": {
   "name": "python"
  }
 },
 "nbformat": 4,
 "nbformat_minor": 2
}
